{
 "cells": [
  {
   "cell_type": "markdown",
   "metadata": {},
   "source": [
    "# Identification of \"Redness\" in *Junonia Coenia* Ventral Hind Wings\n",
    "\n",
    "Ravi Mandla\n",
    "\n",
    "In *Junonia Coenia*, ventral hind wing redness is strongly correlated with the temperature at which these butterflies are raised. So, determining how \"red\" the hind wing is, through measuring the number of \"red\" pixels, is one possible method to gain some insight into the temperature and environment a buckeye butterfly is raised in.\n",
    "\n",
    "In order to find all pixels with a degree of redness, I previously changed HSV threshold values until visually it appeared as if only the relevant pixels where selected. However, this approach seems to be highly subjective and it is impossible to assess how accurate such a selection would be. Additionally, the range of values of \"redness\" from orange to dark brown, further adds difficulty in properly assessing what is red in these wings. To overcome this obstacles, I propose using [Color Quantization](https://en.wikipedia.org/wiki/Color_quantization) to limit the number of possible colors in each wing image to a small integer (3-7). Doing so allows for greater inclusion of a range of values, while the selection of these values are done in a statistically significant manner using the [k-means algorithm](https://en.wikipedia.org/wiki/K-means_clustering)."
   ]
  },
  {
   "cell_type": "code",
   "execution_count": 14,
   "metadata": {},
   "outputs": [],
   "source": [
    "# import the necessary packages\n",
    "from sklearn.cluster import MiniBatchKMeans\n",
    "import numpy as np\n",
    "import cv2\n",
    "import matplotlib.pyplot as plt\n",
    "%matplotlib inline\n",
    "from os import listdir\n",
    "import pandas as pd\n",
    "from statistics import mean, stdev"
   ]
  },
  {
   "cell_type": "markdown",
   "metadata": {},
   "source": [
    "## Quantize Images\n",
    "\n",
    "I use opencv and sklearn to quantize colors in a set of images. Code adapted from [here](https://www.pyimagesearch.com/2014/07/07/color-quantization-opencv-using-k-means-clustering/)."
   ]
  },
  {
   "cell_type": "code",
   "execution_count": 3,
   "metadata": {},
   "outputs": [],
   "source": [
    "def color_quant(clusters, file, output_dir, no_out=0):\n",
    "    # load the image and grab its width and height\n",
    "    image = cv2.imread(file)\n",
    "    (h, w) = image.shape[:2]\n",
    "\n",
    "    # convert the image from the RGB color space to the L*a*b*\n",
    "    # color space -- since we will be clustering using k-means\n",
    "    # which is based on the euclidean distance, we'll use the\n",
    "    # L*a*b* color space where the euclidean distance implies\n",
    "    # perceptual meaning\n",
    "    image = cv2.cvtColor(image, cv2.COLOR_BGR2LAB)\n",
    "\n",
    "    # reshape the image into a feature vector so that k-means\n",
    "    # can be applied\n",
    "    image = image.reshape((image.shape[0] * image.shape[1], 3))\n",
    "\n",
    "    # apply k-means using the specified number of clusters and\n",
    "    # then create the quantized image based on the predictions\n",
    "    clt = MiniBatchKMeans(n_clusters = clusters)\n",
    "    labels = clt.fit_predict(image)\n",
    "    quant = clt.cluster_centers_.astype(\"uint8\")[labels]\n",
    "\n",
    "    # reshape the feature vectors to images\n",
    "    quant = quant.reshape((h, w, 3))\n",
    "\n",
    "    # convert from L*a*b* to RGB\n",
    "    quant = cv2.cvtColor(quant, cv2.COLOR_LAB2BGR)\n",
    "    \n",
    "    outname = output_dir + file.split('.')[0].split('/')[-1] + '-' + str(clusters) + '-clusters.jpg'\n",
    "\n",
    "    if no_out == 0:\n",
    "        cv2.imwrite(outname, quant)\n",
    "    \n",
    "    return(outname)\n",
    "    "
   ]
  },
  {
   "cell_type": "code",
   "execution_count": 154,
   "metadata": {},
   "outputs": [
    {
     "name": "stdout",
     "output_type": "stream",
     "text": [
      "hind_left_2015xii12_164_0047_F.jpg\n",
      "hind_left_2015xii12_164_0046_M.jpg\n",
      "hind_left_2015xii17_164_0219_F.jpg\n",
      "hind_left_2015xii11_164_0027_M.jpg\n"
     ]
    }
   ],
   "source": [
    "directory = \"/home/rawrvi/Documents/biostuff/butterflies/original/\"\n",
    "files = listdir(directory)\n",
    "for i in files:\n",
    "    print(i)\n",
    "    for s in [3,7]:\n",
    "        color_quant(s, directory + i, \"/home/rawrvi/Documents/biostuff/butterflies/quanta/\")"
   ]
  },
  {
   "cell_type": "markdown",
   "metadata": {},
   "source": [
    "### Comparison\n",
    "\n",
    "Below are images of the ventral hindwings before and after color quantization with both 7 colors and 3 colors\n",
    "\n",
    "#### Original\n",
    "![](images/hind_left_2015xii12_164_0047_F.jpg)\n",
    "\n",
    "#### Seven Colors\n",
    "![](images/hind_left_2015xii12_164_0047_F-7-clusters.jpg)\n",
    "\n",
    "#### Three Colors\n",
    "![](images/hind_left_2015xii12_164_0047_F-3-clusters.jpg)\n",
    "\n",
    "#### Table of varying red wings before and after quantization\n",
    "| Indv. Number | Original Image | Seven Colors | Three Colors |\n",
    "| --- | --- | --- | --- | \n",
    "| 47 | ![](images/hind_left_2015xii12_164_0047_F.jpg) |  ![](images/hind_left_2015xii12_164_0047_F-7-clusters.jpg) | ![](images/hind_left_2015xii12_164_0047_F-3-clusters.jpg) |\n",
    "| 27 | ![](images/hind_left_2015xii11_164_0027_M.jpg) |  ![](images/hind_left_2015xii11_164_0027_M-7-clusters.jpg) | ![](images/hind_left_2015xii11_164_0027_M-3-clusters.jpg) |\n",
    "| 46 | ![](images/hind_left_2015xii12_164_0046_M.jpg) |  ![](images/hind_left_2015xii12_164_0046_M-7-clusters.jpg) | ![](images/hind_left_2015xii12_164_0046_M-3-clusters.jpg) |\n",
    "| 219 | ![](images/hind_left_2015xii17_164_0219_F.jpg) |  ![](images/hind_left_2015xii17_164_0219_F-7-clusters.jpg) | ![](images/hind_left_2015xii17_164_0219_F-3-clusters.jpg) |"
   ]
  },
  {
   "cell_type": "markdown",
   "metadata": {},
   "source": [
    "The greater number of clusters, the more similar the image is to the original, and the harder it is to assess how red an image is. However, indicating two few clusters runs the risk of calling too many pixels as red. For example, using only three clusters will include any black spots as red, including the eyes and the fringes of the wings. I propose using a cluster value of 7 in all of such wing analysis, as it will help differentiate red/dark red from black. And to overcome the issue of two little selection from only selecting pixels of a single color from the 7 cluster image, I will choose two different colored pixels (dark brown and light brown) to measure percent area of \"redness\"."
   ]
  },
  {
   "cell_type": "markdown",
   "metadata": {},
   "source": [
    "## Red Selection\n",
    "\n",
    "Example of the areas of the wing which are selected under this 2 color pick system from a 7 cluster image."
   ]
  },
  {
   "cell_type": "code",
   "execution_count": 116,
   "metadata": {},
   "outputs": [],
   "source": [
    "dark = [23,51,98]\n",
    "light = [58,91,140]\n",
    "bg_dark = [30,135,180]\n",
    "bg_light = [255,255,255]"
   ]
  },
  {
   "cell_type": "code",
   "execution_count": 117,
   "metadata": {},
   "outputs": [],
   "source": [
    "def image_select(file, dark, light):\n",
    "    image = cv2.imread(file)\n",
    "\n",
    "    upper = np.array(light, dtype='uint8')\n",
    "    lower = np.array(dark, dtype='uint8')\n",
    "\n",
    "    mask = cv2.inRange(image, lower, upper)\n",
    "    output = cv2.bitwise_and(image, image, mask=mask)\n",
    "\n",
    "    grayImage = cv2.cvtColor(output, cv2.COLOR_BGR2GRAY)\n",
    "\n",
    "    cv2.imwrite('redselect-' + file.split('_')[4] + '.jpg', grayImage)\n",
    "    \n",
    "    return cv2.countNonZero(grayImage)"
   ]
  },
  {
   "cell_type": "code",
   "execution_count": 83,
   "metadata": {},
   "outputs": [
    {
     "name": "stdout",
     "output_type": "stream",
     "text": [
      "quanta/hind_left_2015xii12_164_0047_F-7-clusters.jpg\n",
      "525841\n"
     ]
    },
    {
     "data": {
      "text/plain": [
       "True"
      ]
     },
     "execution_count": 83,
     "metadata": {},
     "output_type": "execute_result"
    }
   ],
   "source": [
    "file = 'quanta/hind_left_2015xii12_164_0047_F-7-clusters.jpg'\n",
    "image = cv2.imread(file)\n",
    "hsv = cv2.cvtColor(image, cv2.COLOR_BGR2HSV)\n",
    "  \n",
    "upperbg = np.array(bg_light, dtype='uint8')\n",
    "lowerbg = np.array(bg_dark, dtype='uint8')\n",
    "    \n",
    "mask = cv2.inRange(hsv, lowerbg, upperbg)\n",
    "green = cv2.countNonZero(mask)\n",
    "output = cv2.bitwise_and(hsv, hsv, mask=mask)\n",
    "print(file)\n",
    "print(cv2.countNonZero(mask))\n",
    "\n",
    "grayImage = cv2.cvtColor(output, cv2.COLOR_BGR2GRAY)\n",
    "cv2.imwrite('greenselect-0047.jpg', grayImage)"
   ]
  },
  {
   "cell_type": "code",
   "execution_count": 118,
   "metadata": {},
   "outputs": [],
   "source": [
    "def red_wing_area(file, dark, light, bg_dark, bg_light):\n",
    "    \n",
    "    image = cv2.imread(file)\n",
    "    \n",
    "    upper = np.array(light, dtype='uint8')\n",
    "    lower = np.array(dark, dtype='uint8')\n",
    "    \n",
    "    upperbg = np.array(bg_light, dtype='uint8')\n",
    "    lowerbg = np.array(bg_dark, dtype='uint8')\n",
    "    \n",
    "    mask = cv2.inRange(image, lower, upper)\n",
    "    output = cv2.bitwise_and(image, image, mask=mask)\n",
    "\n",
    "    redpix = cv2.countNonZero(mask)\n",
    "    print(redpix)\n",
    "    \n",
    "    hsv = cv2.cvtColor(image, cv2.COLOR_BGR2HSV)\n",
    "    \n",
    "    mask = cv2.inRange(hsv, lowerbg, upperbg)\n",
    "    green = cv2.countNonZero(mask)\n",
    "    \n",
    "    row,col = image.shape[0],image.shape[1]\n",
    "    total = row*col\n",
    "    \n",
    "    wing = total-green\n",
    "    percent = redpix / total * 100\n",
    "    return percent"
   ]
  },
  {
   "cell_type": "code",
   "execution_count": 119,
   "metadata": {},
   "outputs": [
    {
     "name": "stdout",
     "output_type": "stream",
     "text": [
      "hind_left_2015xii11_164_0027_M-7-clusters.jpg\n",
      "168201\n",
      "hind_left_2015xii12_164_0047_F-7-clusters.jpg\n",
      "207210\n",
      "hind_left_2015xii12_164_0046_M-7-clusters.jpg\n",
      "157747\n",
      "hind_left_2015xii17_164_0219_F-7-clusters.jpg\n",
      "523332\n"
     ]
    }
   ],
   "source": [
    "redarea = []\n",
    "for i in listdir(\"quanta/\"):\n",
    "    if '-7-' in i:\n",
    "        print(i)\n",
    "        image_select(\"quanta/\" + i, dark, light)\n",
    "        redarea.append([i.split('_')[4], red_wing_area('quanta/' + i, \n",
    "                                                      dark, light, bg_dark, bg_light)])"
   ]
  },
  {
   "cell_type": "code",
   "execution_count": 120,
   "metadata": {},
   "outputs": [
    {
     "data": {
      "text/plain": [
       "[['0027', 9.650086058519793],\n",
       " ['0047', 11.581516076961943],\n",
       " ['0046', 10.612231443210195],\n",
       " ['0219', 29.36991824291865]]"
      ]
     },
     "execution_count": 120,
     "metadata": {},
     "output_type": "execute_result"
    }
   ],
   "source": [
    "redarea"
   ]
  },
  {
   "cell_type": "markdown",
   "metadata": {},
   "source": [
    "| Indv. Number | Original Image | Red Selected |\n",
    "| --- | --- | --- |\n",
    "| 219 | ![](images/hind_left_2015xii17_164_0219_F.jpg) |  ![](images/redselect-0219.jpg) |\n",
    "| 27 | ![](images/hind_left_2015xii11_164_0027_M.jpg) | ![](iredselect-0027.jpg) |\n",
    "\n",
    "This appears to select all of the red spots accurately, though it still includes some of the distal wing fringes. It also excludes most of the eye spots, though as a result also ignores extremely black spots on the wings."
   ]
  },
  {
   "cell_type": "markdown",
   "metadata": {},
   "source": [
    "I had some difficulty selecting the pixels of the green background with BGR values, so had to use HSV values instead."
   ]
  },
  {
   "cell_type": "markdown",
   "metadata": {},
   "source": [
    "| Indv. Number | Original Image | Green Selected |\n",
    "| --- | --- | --- |\n",
    "| 219 | ![](original/hind_left_2015xii12_164_0047_F.jpg) |  ![](greenselect-0047.jpg) |"
   ]
  },
  {
   "cell_type": "markdown",
   "metadata": {},
   "source": [
    "| Indv. Number | % area quantized | % area - 2016 | % area - 2019 |\n",
    "| --- | --- | --- | --- |\n",
    "| 27 | 9.6501 | 14.289 | 10.182 |\n",
    "| 47 | 11.5815 | 19.492 | 12.239 |\n",
    "| 46 | 10.6122 | 19.324 | 13.176 |\n",
    "| 219 | 29.3699 | 25.081 | 22.658 |"
   ]
  },
  {
   "cell_type": "markdown",
   "metadata": {},
   "source": [
    "The values calculated using this method varies greatly more than those calculated previously using the original HSV method. This is probably because this method allows for greater detection of the many \"hues\" which could count as redness in wings with lots of red, while also being selective for single hues of red in wings with less red."
   ]
  },
  {
   "cell_type": "markdown",
   "metadata": {},
   "source": [
    "Running the k-means clustering algorithm 20 times, and averaging redness for each model for each image yields the follwing result"
   ]
  },
  {
   "cell_type": "code",
   "execution_count": 4,
   "metadata": {},
   "outputs": [
    {
     "data": {
      "text/html": [
       "<div>\n",
       "<style scoped>\n",
       "    .dataframe tbody tr th:only-of-type {\n",
       "        vertical-align: middle;\n",
       "    }\n",
       "\n",
       "    .dataframe tbody tr th {\n",
       "        vertical-align: top;\n",
       "    }\n",
       "\n",
       "    .dataframe thead th {\n",
       "        text-align: right;\n",
       "    }\n",
       "</style>\n",
       "<table border=\"1\" class=\"dataframe\">\n",
       "  <thead>\n",
       "    <tr style=\"text-align: right;\">\n",
       "      <th></th>\n",
       "      <th>Indv Number</th>\n",
       "      <th>Sex</th>\n",
       "      <th>Average Redness</th>\n",
       "      <th>Std Redness</th>\n",
       "    </tr>\n",
       "  </thead>\n",
       "  <tbody>\n",
       "    <tr>\n",
       "      <td>0</td>\n",
       "      <td>47</td>\n",
       "      <td>F</td>\n",
       "      <td>13.500221</td>\n",
       "      <td>3.310967</td>\n",
       "    </tr>\n",
       "    <tr>\n",
       "      <td>1</td>\n",
       "      <td>46</td>\n",
       "      <td>M</td>\n",
       "      <td>12.128222</td>\n",
       "      <td>2.571410</td>\n",
       "    </tr>\n",
       "    <tr>\n",
       "      <td>2</td>\n",
       "      <td>219</td>\n",
       "      <td>F</td>\n",
       "      <td>29.832642</td>\n",
       "      <td>3.102093</td>\n",
       "    </tr>\n",
       "    <tr>\n",
       "      <td>3</td>\n",
       "      <td>27</td>\n",
       "      <td>M</td>\n",
       "      <td>7.623434</td>\n",
       "      <td>1.666269</td>\n",
       "    </tr>\n",
       "  </tbody>\n",
       "</table>\n",
       "</div>"
      ],
      "text/plain": [
       "   Indv Number Sex  Average Redness  Std Redness\n",
       "0           47   F        13.500221     3.310967\n",
       "1           46   M        12.128222     2.571410\n",
       "2          219   F        29.832642     3.102093\n",
       "3           27   M         7.623434     1.666269"
      ]
     },
     "execution_count": 4,
     "metadata": {},
     "output_type": "execute_result"
    }
   ],
   "source": [
    "pd.read_csv('test-20.csv')"
   ]
  },
  {
   "cell_type": "markdown",
   "metadata": {},
   "source": [
    "Below is the spread of redness of a random sample of 80 images, compared to the spread for the HSV results from 2016 and 2019. Note that I did not run k-means multiple times per image below to save time."
   ]
  },
  {
   "cell_type": "code",
   "execution_count": 2,
   "metadata": {},
   "outputs": [],
   "source": [
    "redquant = pd.read_csv('test-1.csv')['Average Redness']\n",
    "red16 = pd.read_csv('Results_percent_cover_Ravioriginal.csv')[\"percent_cover_color\"]\n",
    "red19 = pd.read_csv('Results_percent_cover_Ravi2019.csv')[\"percent\"]"
   ]
  },
  {
   "cell_type": "code",
   "execution_count": 13,
   "metadata": {},
   "outputs": [
    {
     "data": {
      "image/png": "[encoded data removed]",
      "text/plain": [
       "<Figure size 432x288 with 1 Axes>"
      ]
     },
     "metadata": {
      "needs_background": "light"
     },
     "output_type": "display_data"
    }
   ],
   "source": [
    "bins = np.linspace(-0, 60, 200)\n",
    "\n",
    "plt.hist(redquant, bins, alpha=0.5, label='Quantized Redness')\n",
    "plt.hist(red16, bins, alpha=0.5, label='Manual HSV selection')\n",
    "plt.title('Spread of Redness in Ventral Hindwings')\n",
    "plt.xlabel('Percent Redness')\n",
    "plt.legend(loc='upper right')\n",
    "plt.show()"
   ]
  },
  {
   "cell_type": "code",
   "execution_count": 17,
   "metadata": {},
   "outputs": [
    {
     "name": "stdout",
     "output_type": "stream",
     "text": [
      "Average for quantized redness is: 13.59939665040526 | Stdev is: 5.0318156930732885\n",
      "Average for manually defined redness is 17.82177810041768 | Stdev is 5.876434621107406\n"
     ]
    }
   ],
   "source": [
    "print('Average for quantized redness is: ' + str(mean(redquant)) + \" | Stdev is: \" + str(stdev(redquant)))\n",
    "print('Average for manually defined redness is ' + str(mean(red16)) + \" | Stdev is \" + str(stdev(red16)))"
   ]
  },
  {
   "cell_type": "markdown",
   "metadata": {},
   "source": [
    "## Results"
   ]
  },
  {
   "cell_type": "markdown",
   "metadata": {},
   "source": [
    "Quantizing the images and then defining redness with threshold values of the \"least red\" and \"most red\" parts of the quantized image allows for greater specificity in the definition of redness, apparent through the decrease in average and standard deviation. However, at the same time, quantization allows for the compression of multiple shades of red into a single shade of red, allowing for greater inclusion of red points in wings with many different shades of red (from orange to dark brown) while still ignoring extremely dark points.\n",
    "\n",
    "Because the k-means algorithm will rarely define the same clusters when run on the same image, I recommend running it multiple times per image to get a more accurate average of redness.\n",
    "\n",
    "### Shortcomings\n",
    "\n",
    "Measuring color through quantization using this pipeline takes significantly longer than using the manually defined HSV method, both because of the time taken to quantize and the repetition of each image to get a more accurate measure of redness (each image takes ~8 seconds). In total, running 200 images 20 times each will take roughly 9 hours.\n",
    "\n",
    "Additionally, the method still isn't completely objective, as color thresholds are still needed to define a set of pixels to include as red. And this involves visually inspecting a quantized image with the most variety in red, and setting the upper and lower boundaries to the BGR or HSV values of the lightest and darkest shade of red found. And, it is still difficult to assess how much more accurate this model is compared to manually defining the amount of red, besides observing the decrease in spread and average. \n",
    "\n",
    "Despite these shortcomings, quantizing the image color theoretically allows for a decrease in the range of redness, allowing for more accurate detection of redness. Decreasing the total number of colors in the image makes it simpler to measure and define a single color, though decreasing it too much causes an inclusion of too many pixels (using a cluster value of 3 includes the black of eye spots and distal wing fringes as red spots). Using a cluster value of 7 and a range of BGR values together appears to properly segregate \"redness\" from the rest of the wing in a manner more accurately than manually defining a red threshold and then measuring number of included pixels in a non-quantized image."
   ]
  }
 ],
 "metadata": {
  "kernelspec": {
   "display_name": "Python 3",
   "language": "python",
   "name": "python3"
  },
  "language_info": {
   "codemirror_mode": {
    "name": "ipython",
    "version": 3
   },
   "file_extension": ".py",
   "mimetype": "text/x-python",
   "name": "python",
   "nbconvert_exporter": "python",
   "pygments_lexer": "ipython3",
   "version": "3.7.4"
  }
 },
 "nbformat": 4,
 "nbformat_minor": 2
}
